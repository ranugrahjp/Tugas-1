{
 "cells": [
  {
   "cell_type": "code",
   "execution_count": 53,
   "id": "f9a6b868",
   "metadata": {},
   "outputs": [
    {
     "name": "stdout",
     "output_type": "stream",
     "text": [
      "Masukkan Nilai Ujian Teori : 55\n",
      "Masukkan Nilai Ujian Praktek : 55\n"
     ]
    }
   ],
   "source": [
    "ujian_teori = int(input('Masukkan Nilai Ujian Teori : '))\n",
    "ujian_praktek = int(input('Masukkan Nilai Ujian Praktek : '))"
   ]
  },
  {
   "cell_type": "code",
   "execution_count": 54,
   "id": "37e818da",
   "metadata": {},
   "outputs": [
    {
     "name": "stdout",
     "output_type": "stream",
     "text": [
      "Anda harus mengulang ujian teori dan praktek.\n"
     ]
    }
   ],
   "source": [
    "if ujian_teori >= 70:\n",
    "    if (ujian_praktek >= 70):\n",
    "        print('Selamat, anda lulus!')\n",
    "    elif (ujian_praktek < 70):\n",
    "        print('Anda harus mengulang ujian praktek.')\n",
    "elif ujian_teori < 70 and ujian_praktek >= 70:\n",
    "    print('Anda harus mengulang ujian teori')    \n",
    "else:\n",
    "    print('Anda harus mengulang ujian teori dan praktek.')"
   ]
  },
  {
   "cell_type": "code",
   "execution_count": null,
   "id": "61a03712",
   "metadata": {},
   "outputs": [],
   "source": []
  }
 ],
 "metadata": {
  "kernelspec": {
   "display_name": "Python 3 (ipykernel)",
   "language": "python",
   "name": "python3"
  },
  "language_info": {
   "codemirror_mode": {
    "name": "ipython",
    "version": 3
   },
   "file_extension": ".py",
   "mimetype": "text/x-python",
   "name": "python",
   "nbconvert_exporter": "python",
   "pygments_lexer": "ipython3",
   "version": "3.10.5"
  }
 },
 "nbformat": 4,
 "nbformat_minor": 5
}
