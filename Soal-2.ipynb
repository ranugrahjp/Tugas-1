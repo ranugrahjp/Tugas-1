{
 "cells": [
  {
   "cell_type": "code",
   "execution_count": 8,
   "id": "57f5b7a1",
   "metadata": {},
   "outputs": [
    {
     "name": "stdout",
     "output_type": "stream",
     "text": [
      "Masukkan jari-jari lingkaran : 10\n"
     ]
    }
   ],
   "source": [
    "r = int(input('Masukkan jari-jari lingkaran : '))\n",
    "phi = float(22/7)\n",
    "luas_lingkaran = phi*r**2"
   ]
  },
  {
   "cell_type": "code",
   "execution_count": 19,
   "id": "aeecada3",
   "metadata": {},
   "outputs": [],
   "source": [
    "hasil = f'Luas lingkaran dengan jari-jari {r} cm adalah {luas_lingkaran:.2f} cm\\u00b2'"
   ]
  },
  {
   "cell_type": "code",
   "execution_count": 20,
   "id": "ed5d8daf",
   "metadata": {
    "scrolled": true
   },
   "outputs": [
    {
     "name": "stdout",
     "output_type": "stream",
     "text": [
      "Luas lingkaran dengan jari-jari 10 cm adalah 314.29 cm²\n"
     ]
    }
   ],
   "source": [
    "print(hasil)"
   ]
  },
  {
   "cell_type": "code",
   "execution_count": null,
   "id": "be22a5e1",
   "metadata": {},
   "outputs": [],
   "source": []
  }
 ],
 "metadata": {
  "kernelspec": {
   "display_name": "Python 3 (ipykernel)",
   "language": "python",
   "name": "python3"
  },
  "language_info": {
   "codemirror_mode": {
    "name": "ipython",
    "version": 3
   },
   "file_extension": ".py",
   "mimetype": "text/x-python",
   "name": "python",
   "nbconvert_exporter": "python",
   "pygments_lexer": "ipython3",
   "version": "3.10.5"
  }
 },
 "nbformat": 4,
 "nbformat_minor": 5
}
