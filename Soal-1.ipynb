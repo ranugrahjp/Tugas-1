{
 "cells": [
  {
   "cell_type": "code",
   "execution_count": 1,
   "id": "ebde21eb",
   "metadata": {},
   "outputs": [
    {
     "name": "stdout",
     "output_type": "stream",
     "text": [
      "Masukkan Nama Anda : Ridho\n",
      "Masukkan Umur Anda : 23\n",
      "Masukkan Tinggi Anda : 182.5\n"
     ]
    }
   ],
   "source": [
    "nama = input('Masukkan Nama Anda : ')\n",
    "umur = int(input('Masukkan Umur Anda : '))\n",
    "tinggi = float(input('Masukkan Tinggi Anda : '))"
   ]
  },
  {
   "cell_type": "code",
   "execution_count": 2,
   "id": "a4f39763",
   "metadata": {},
   "outputs": [
    {
     "data": {
      "text/plain": [
       "str"
      ]
     },
     "execution_count": 2,
     "metadata": {},
     "output_type": "execute_result"
    }
   ],
   "source": [
    "type(nama)"
   ]
  },
  {
   "cell_type": "code",
   "execution_count": 3,
   "id": "eabda5ac",
   "metadata": {},
   "outputs": [
    {
     "data": {
      "text/plain": [
       "int"
      ]
     },
     "execution_count": 3,
     "metadata": {},
     "output_type": "execute_result"
    }
   ],
   "source": [
    "type(umur)"
   ]
  },
  {
   "cell_type": "code",
   "execution_count": 4,
   "id": "d87211bb",
   "metadata": {},
   "outputs": [
    {
     "data": {
      "text/plain": [
       "float"
      ]
     },
     "execution_count": 4,
     "metadata": {},
     "output_type": "execute_result"
    }
   ],
   "source": [
    "type(tinggi)"
   ]
  },
  {
   "cell_type": "code",
   "execution_count": 5,
   "id": "3f56c7ff",
   "metadata": {},
   "outputs": [],
   "source": [
    "hasil = 'Nama saya {}, umur saya {} dan tinggi saya {} cm.'.format(nama,umur,tinggi)"
   ]
  },
  {
   "cell_type": "code",
   "execution_count": 6,
   "id": "f280ee0b",
   "metadata": {},
   "outputs": [
    {
     "name": "stdout",
     "output_type": "stream",
     "text": [
      "Nama saya Ridho, umur saya 23 dan tinggi saya 182.5 cm.\n"
     ]
    }
   ],
   "source": [
    "print(hasil)"
   ]
  },
  {
   "cell_type": "code",
   "execution_count": null,
   "id": "17cb250b",
   "metadata": {},
   "outputs": [],
   "source": []
  }
 ],
 "metadata": {
  "kernelspec": {
   "display_name": "Python 3 (ipykernel)",
   "language": "python",
   "name": "python3"
  },
  "language_info": {
   "codemirror_mode": {
    "name": "ipython",
    "version": 3
   },
   "file_extension": ".py",
   "mimetype": "text/x-python",
   "name": "python",
   "nbconvert_exporter": "python",
   "pygments_lexer": "ipython3",
   "version": "3.10.5"
  }
 },
 "nbformat": 4,
 "nbformat_minor": 5
}
